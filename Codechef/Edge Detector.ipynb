{
 "cells": [
  {
   "cell_type": "code",
   "execution_count": 6,
   "metadata": {},
   "outputs": [],
   "source": [
    "import cv2\n",
    "\n",
    "names = []\n",
    "for i in range(1, 3):\n",
    "    names.append('img-' + str(i) + \".jpg\")"
   ]
  },
  {
   "cell_type": "code",
   "execution_count": 7,
   "metadata": {},
   "outputs": [],
   "source": [
    "for i in range(len(names)):\n",
    "    # read the image and store the data in a variable\n",
    "    image = cv2.imread(names[i])\n",
    "\n",
    "    # make it grayscale\n",
    "    Gray = cv2.cvtColor(image, cv2.COLOR_BGR2GRAY)\n",
    "\n",
    "    # Make canny Function\n",
    "    canny = cv2.Canny(Gray, 40, 140)\n",
    "\n",
    "    # the threshold is varies bw 0 and 255\n",
    "    #cv2.imshow(\"Canny\",canny)\n",
    "    #cv2.imshow(\"Original\",Gray)\n",
    "    \n",
    "    temp = \"image-\" + str(i+1) + \".jpg\"\n",
    "    cv2.imwrite(temp, canny)\n",
    "\n",
    "    cv2.waitKey(0)\n",
    "    cv2.destroyAllWindows()"
   ]
  }
 ],
 "metadata": {
  "kernelspec": {
   "display_name": "Python 3",
   "language": "python",
   "name": "python3"
  },
  "language_info": {
   "codemirror_mode": {
    "name": "ipython",
    "version": 3
   },
   "file_extension": ".py",
   "mimetype": "text/x-python",
   "name": "python",
   "nbconvert_exporter": "python",
   "pygments_lexer": "ipython3",
   "version": "3.7.6"
  }
 },
 "nbformat": 4,
 "nbformat_minor": 4
}
